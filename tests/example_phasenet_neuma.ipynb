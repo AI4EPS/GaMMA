{
 "cells": [
  {
   "attachments": {},
   "cell_type": "markdown",
   "metadata": {},
   "source": [
    "# PhaseNet Example\n",
    "\n",
    "Applying GaMMA to associate PhaseNet picks"
   ]
  },
  {
   "cell_type": "code",
   "execution_count": null,
   "metadata": {
    "execution": {
     "iopub.execute_input": "2022-06-25T01:19:00.384744Z",
     "iopub.status.busy": "2022-06-25T01:19:00.384658Z",
     "iopub.status.idle": "2022-06-25T01:19:00.386421Z",
     "shell.execute_reply": "2022-06-25T01:19:00.386201Z",
     "shell.execute_reply.started": "2022-06-25T01:19:00.384716Z"
    }
   },
   "outputs": [],
   "source": [
    "# !pip install git+https://github.com/wayneweiqiang/GaMMA.git"
   ]
  },
  {
   "cell_type": "code",
   "execution_count": null,
   "metadata": {
    "execution": {
     "iopub.execute_input": "2022-06-25T01:19:00.386819Z",
     "iopub.status.busy": "2022-06-25T01:19:00.386725Z",
     "iopub.status.idle": "2022-06-25T01:19:00.714672Z",
     "shell.execute_reply": "2022-06-25T01:19:00.714254Z",
     "shell.execute_reply.started": "2022-06-25T01:19:00.386809Z"
    },
    "tags": []
   },
   "outputs": [],
   "source": [
    "import pandas as pd\n",
    "from datetime import datetime, timedelta\n",
    "from gamma import BayesianGaussianMixture, GaussianMixture\n",
    "from gamma.utils import convert_picks_csv, association, from_seconds\n",
    "import numpy as np\n",
    "from sklearn.cluster import DBSCAN \n",
    "from datetime import datetime, timedelta\n",
    "import os\n",
    "import json\n",
    "import pickle\n",
    "from pyproj import Proj\n",
    "from tqdm import tqdm"
   ]
  },
  {
   "attachments": {},
   "cell_type": "markdown",
   "metadata": {},
   "source": [
    "## 1. Download and Read data\n",
    "\n",
    "- Download test data: PhaseNet picks of the 2019 Ridgecrest earthquake sequence\n",
    "1. picks file: picks.json\n",
    "2. station information: stations.csv\n",
    "3. events in SCSN catalog: events.csv\n",
    "\n",
    "```bash\n",
    "wget https://github.com/wayneweiqiang/GaMMA/releases/download/test_data/test_data.zip\n",
    "unzip test_data.zip\n",
    "```"
   ]
  },
  {
   "cell_type": "code",
   "execution_count": null,
   "metadata": {
    "execution": {
     "iopub.execute_input": "2022-06-25T01:19:00.715442Z",
     "iopub.status.busy": "2022-06-25T01:19:00.715338Z",
     "iopub.status.idle": "2022-06-25T01:19:00.717247Z",
     "shell.execute_reply": "2022-06-25T01:19:00.717034Z",
     "shell.execute_reply.started": "2022-06-25T01:19:00.715432Z"
    }
   },
   "outputs": [],
   "source": [
    "# !rm test_data.zip \n",
    "# !rm -rf test_data\n",
    "# !wget https://github.com/wayneweiqiang/GaMMA/releases/download/test_data/test_data.zip\n",
    "# !unzip test_data.zip"
   ]
  },
  {
   "cell_type": "code",
   "execution_count": null,
   "metadata": {
    "execution": {
     "iopub.execute_input": "2022-06-25T01:19:00.717724Z",
     "iopub.status.busy": "2022-06-25T01:19:00.717601Z",
     "iopub.status.idle": "2022-06-25T01:19:01.038436Z",
     "shell.execute_reply": "2022-06-25T01:19:01.038167Z",
     "shell.execute_reply.started": "2022-06-25T01:19:00.717715Z"
    },
    "tags": []
   },
   "outputs": [],
   "source": [
    "data_dir = lambda x: os.path.join(\"test_data\", x)\n",
    "result_dir = lambda x: os.path.join(\"results\", x)\n",
    "if not os.path.exists(\"results\"):\n",
    "    os.makedirs(\"results\")\n",
    "\n",
    "version = \"anza_d4\"\n",
    "station_csv = data_dir(\"scsn_stations.csv\")\n",
    "pick_csv = data_dir(f\"{version}.csv\")\n",
    "\n",
    "catalog_csv = result_dir(f\"catalog_gamma_{version}.csv\")\n",
    "picks_csv = result_dir(f\"picks_gamma_{version}.csv\")\n",
    "\n",
    "# config = {'center': (-117.504, 35.705), \n",
    "#     'xlim_degree': [-118.004, -117.004], \n",
    "#     'ylim_degree': [35.205, 36.205], \n",
    "#     'degree2km': 111.19492474777779, \n",
    "#     'starttime': datetime(2019, 7, 4, 17, 0), \n",
    "#     'endtime': datetime(2019, 7, 5, 0, 0)}\n",
    "\n",
    "## read picks\n",
    "# picks = pd.read_json(pick_csv)\n",
    "picks = pd.read_csv(pick_csv)\n",
    "picks[\"id\"] = picks.apply(lambda x: f\"{x['network']}.{x['station']}\", axis=1)\n",
    "picks[\"type\"] = picks[\"phase\"]\n",
    "picks[\"prob\"] = np.ones(len(picks))\n",
    "picks[\"amp\"] = picks[\"amp\"].apply(lambda x: 10**x/1e2)\n",
    "picks[\"timestamp\"] = picks[\"time\"].apply(lambda x: x+\"0\" * (23 - len(x)))\n",
    "\n",
    "picks[\"station_id\"] = picks[\"id\"]\n",
    "picks[\"phase_time\"] = picks[\"timestamp\"]\n",
    "picks[\"phase_amp\"] = picks[\"amp\"]\n",
    "picks[\"phase_type\"] = picks[\"type\"]\n",
    "picks[\"phase_score\"] = picks[\"prob\"]\n",
    "\n",
    "## read stations\n",
    "stations = pd.read_csv(station_csv)\n",
    "stations[\"id\"] = stations.apply(lambda x: f\"{x['network']}.{x['station']}\", axis=1)\n",
    "stations.drop_duplicates(subset=[\"id\"], inplace=True)\n",
    "stations[\"elevation(m)\"] = stations[\"elevation\"]\n",
    "\n",
    "\n",
    "## set config based on stations\n",
    "# tmp_stations = stations.merge(picks[\"id\"], how=\"right\")\n",
    "stations = stations.merge(picks[\"id\"], how=\"inner\")\n",
    "stations.drop_duplicates(subset=[\"id\"], inplace=True)\n",
    "config = {}\n",
    "# config[\"center\"] = ((stations.longitude.min() + stations.longitude.max())/2.0, \n",
    "#                     (stations.latitude.min() + stations.latitude.max())/2.0)\n",
    "# config[\"xlim_degree\"] = [stations.longitude.min(), stations.longitude.max()]\n",
    "# config[\"ylim_degree\"] = [stations.latitude.min(), stations.latitude.max()]\n",
    "config[\"center\"] = (-116.45, 33.45)\n",
    "config[\"xlim_degree\"] = [-116.7, -116.2]\n",
    "config[\"ylim_degree\"] = [33.2, 33.7]\n",
    "config[\"degree2km\"] = 111.19492474777779\n",
    "config[\"starttime\"] = datetime.strptime(picks[\"timestamp\"].min(), \"%Y-%m-%dT%H:%M:%S.%f\")\n",
    "config[\"endtime\"] = datetime.strptime(picks[\"timestamp\"].max(), \"%Y-%m-%dT%H:%M:%S.%f\")\n",
    "\n",
    "\n",
    "# stations = stations.rename(columns={\"station\":\"id\"})\n",
    "proj = Proj(f\"+proj=sterea +lon_0={config['center'][0]} +lat_0={config['center'][1]} +units=km\")\n",
    "stations[[\"x(km)\", \"y(km)\"]] = stations.apply(lambda x: pd.Series(proj(longitude=x.longitude, latitude=x.latitude)), axis=1)\n",
    "stations[\"z(km)\"] = stations[\"elevation(m)\"].apply(lambda x: -x/1e3)\n",
    "\n",
    "### setting GMMA configs\n",
    "config[\"use_dbscan\"] = True\n",
    "config[\"use_amplitude\"] = True\n",
    "config[\"method\"] = \"BGMM\"  \n",
    "if config[\"method\"] == \"BGMM\": ## BayesianGaussianMixture\n",
    "    # config[\"oversample_factor\"] = 4 * 4\n",
    "    # counts = picks.groupby(\"id\")[\"phase_time\"].count()\n",
    "    # ratio = counts.nlargest(10).mean() * len(stations) / len(picks)\n",
    "    # config[\"oversample_factor\"] = ratio * 2\n",
    "    config[\"oversample_factor\"] = 8\n",
    "if config[\"method\"] == \"GMM\": ## GaussianMixture\n",
    "    config[\"oversample_factor\"] = 1\n",
    "\n",
    "# earthquake location\n",
    "config[\"vel\"] = {\"p\": 6.0, \"s\": 6.0 / 1.75}\n",
    "config[\"dims\"] = ['x(km)', 'y(km)', 'z(km)']\n",
    "config[\"x(km)\"] = (np.array(config[\"xlim_degree\"])-np.array(config[\"center\"][0]))*config[\"degree2km\"]*np.cos(np.deg2rad(config[\"center\"][1]))\n",
    "config[\"y(km)\"] = (np.array(config[\"ylim_degree\"])-np.array(config[\"center\"][1]))*config[\"degree2km\"]\n",
    "config[\"z(km)\"] = (0, 20)\n",
    "config[\"bfgs_bounds\"] = (\n",
    "    (config[\"x(km)\"][0] - 1, config[\"x(km)\"][1] + 1),  # x\n",
    "    (config[\"y(km)\"][0] - 1, config[\"y(km)\"][1] + 1),  # y\n",
    "    (0, config[\"z(km)\"][1] + 1),  # z\n",
    "    (None, None),  # t\n",
    ")\n",
    "\n",
    "# DBSCAN\n",
    "config[\"dbscan_eps\"] = 10 #s\n",
    "config[\"dbscan_min_samples\"] = 3\n",
    "\n",
    "## Eikonal for 1D velocity model\n",
    "# zz = [0.0, 5.5, 16.0, 32.0]\n",
    "# vp = [5.5, 5.5,  6.7,  7.8]\n",
    "# vp_vs_ratio = 1.73\n",
    "# vs = [v / vp_vs_ratio for v in vp]\n",
    "# h = 0.3\n",
    "# # h = 3\n",
    "# vel = {\"z\": zz, \"p\": vp, \"s\": vs}\n",
    "# config[\"eikonal\"] = {\"vel\": vel, \"h\": h, \"xlim\": config[\"x(km)\"], \"ylim\": config[\"y(km)\"], \"zlim\": config[\"z(km)\"]}\n",
    "\n",
    "\n",
    "# filtering\n",
    "config[\"min_picks_per_eq\"] = 5\n",
    "config[\"min_p_picks_per_eq\"] = 0\n",
    "config[\"min_s_picks_per_eq\"] = 0\n",
    "config[\"max_sigma11\"] = 2.0 # s\n",
    "config[\"max_sigma22\"] = 1.0 # log10(m/s)\n",
    "config[\"max_sigma12\"] = 1.0 # covariance\n",
    "\n",
    "## filter picks without amplitude measurements\n",
    "if config[\"use_amplitude\"]:\n",
    "    picks = picks[picks[\"amp\"] != -1]\n",
    "\n",
    "for k, v in config.items():\n",
    "    print(f\"{k}: {v}\")"
   ]
  },
  {
   "cell_type": "code",
   "execution_count": null,
   "metadata": {},
   "outputs": [],
   "source": [
    "len(stations)"
   ]
  },
  {
   "cell_type": "code",
   "execution_count": null,
   "metadata": {},
   "outputs": [],
   "source": [
    "len(picks)"
   ]
  },
  {
   "cell_type": "code",
   "execution_count": null,
   "metadata": {},
   "outputs": [],
   "source": [
    "# for picks, group and count based on id\n",
    "counts = picks.groupby(\"id\")[\"phase_time\"].count()"
   ]
  },
  {
   "cell_type": "code",
   "execution_count": null,
   "metadata": {},
   "outputs": [],
   "source": [
    "counts.nlargest(10).mean() * len(stations) / len(picks)"
   ]
  },
  {
   "cell_type": "code",
   "execution_count": null,
   "metadata": {},
   "outputs": [],
   "source": [
    "import matplotlib.pyplot as plt\n",
    "plt.figure()\n",
    "plt.hist(counts, bins=100)\n",
    "plt.yscale('log')\n",
    "plt.show()\n",
    "\n",
    "plt.figure()\n",
    "plt.scatter(stations[\"longitude\"], stations[\"latitude\"],  marker=\"^\", s=10)\n",
    "plt.show()"
   ]
  },
  {
   "attachments": {},
   "cell_type": "markdown",
   "metadata": {},
   "source": [
    "## 2. Associaiton with GaMMA"
   ]
  },
  {
   "cell_type": "code",
   "execution_count": null,
   "metadata": {
    "execution": {
     "iopub.execute_input": "2022-06-25T01:19:01.038938Z",
     "iopub.status.busy": "2022-06-25T01:19:01.038835Z",
     "iopub.status.idle": "2022-06-25T01:20:36.507869Z",
     "shell.execute_reply": "2022-06-25T01:20:36.507592Z",
     "shell.execute_reply.started": "2022-06-25T01:19:01.038928Z"
    },
    "tags": []
   },
   "outputs": [],
   "source": [
    "event_idx0 = 0 ## current earthquake index\n",
    "assignments = []\n",
    "catalogs, assignments = association(picks, stations, config, event_idx0, config[\"method\"])\n",
    "event_idx0 += len(catalogs)\n",
    "\n",
    "## create catalog\n",
    "catalogs = pd.DataFrame(catalogs, columns=[\"time\"]+config[\"dims\"]+[\"magnitude\", \"sigma_time\", \"sigma_amp\", \"cov_time_amp\",  \"event_index\", \"gamma_score\", \"num_picks\", \"num_p_picks\", \"num_s_picks\"])\n",
    "catalogs[[\"longitude\",\"latitude\"]] = catalogs.apply(lambda x: pd.Series(proj(longitude=x[\"x(km)\"], latitude=x[\"y(km)\"], inverse=True)), axis=1)\n",
    "catalogs[\"depth(m)\"] = catalogs[\"z(km)\"].apply(lambda x: x*1e3)\n",
    "with open(catalog_csv, 'w') as fp:\n",
    "    catalogs.to_csv(fp, sep=\"\\t\", index=False, \n",
    "                    float_format=\"%.3f\",\n",
    "                    date_format='%Y-%m-%dT%H:%M:%S.%f',\n",
    "                    columns=[\"time\", \"magnitude\", \"longitude\", \"latitude\", \"depth(m)\", \"sigma_time\", \"sigma_amp\", \"cov_time_amp\", \"event_index\", \"gamma_score\", \"num_picks\", \"num_p_picks\", \"num_s_picks\"])\n",
    "# catalogs = catalogs[['time', 'magnitude', 'longitude', 'latitude', 'depth(m)', 'sigma_time', 'sigma_amp', 'gamma_score']]\n",
    "\n",
    "## add assignment to picks\n",
    "assignments = pd.DataFrame(assignments, columns=[\"pick_index\", \"event_index\", \"gamma_score\"])\n",
    "picks = picks.join(assignments.set_index(\"pick_index\")).fillna(-1).astype({'event_index': int})\n",
    "with open(picks_csv, 'w') as fp:\n",
    "    picks.to_csv(fp, sep=\"\\t\", index=False, \n",
    "                    date_format='%Y-%m-%dT%H:%M:%S.%f',\n",
    "                    columns=[\"station_id\", \"phase_time\", \"phase_type\", \"phase_score\", \"phase_amp\", \"event_index\", \"gamma_score\"])"
   ]
  },
  {
   "attachments": {},
   "cell_type": "markdown",
   "metadata": {},
   "source": [
    "## 3. Visualize results\n",
    "\n",
    "Note that the location and magnitude are estimated during associaiton, which are not expected to have high accuracy. "
   ]
  },
  {
   "cell_type": "code",
   "execution_count": null,
   "metadata": {
    "execution": {
     "iopub.execute_input": "2022-06-25T01:20:36.508502Z",
     "iopub.status.busy": "2022-06-25T01:20:36.508366Z",
     "iopub.status.idle": "2022-06-25T01:20:36.510405Z",
     "shell.execute_reply": "2022-06-25T01:20:36.510184Z",
     "shell.execute_reply.started": "2022-06-25T01:20:36.508492Z"
    },
    "tags": []
   },
   "outputs": [],
   "source": [
    "import matplotlib.pyplot as plt\n",
    "import matplotlib.dates as mdates\n",
    "result_label=\"GaMMA\"\n",
    "catalog_label=\"SCSN\"\n",
    "\n",
    "if not os.path.exists(f\"figures_{version}\"):\n",
    "    os.makedirs(f\"figures_{version}\")\n",
    "figure_dir = lambda x: os.path.join(f\"figures_{version}\", x)"
   ]
  },
  {
   "cell_type": "code",
   "execution_count": null,
   "metadata": {
    "execution": {
     "iopub.execute_input": "2022-06-25T01:20:36.510969Z",
     "iopub.status.busy": "2022-06-25T01:20:36.510783Z",
     "iopub.status.idle": "2022-06-25T01:20:36.935058Z",
     "shell.execute_reply": "2022-06-25T01:20:36.934651Z",
     "shell.execute_reply.started": "2022-06-25T01:20:36.510960Z"
    },
    "tags": []
   },
   "outputs": [],
   "source": [
    "# stations = pd.read_csv(data_dir(\"stations.csv\"), delimiter=\"\\t\")\n",
    "# events = pd.read_csv(data_dir(\"events.csv\"), delimiter=\"\\t\")\n",
    "# events[\"time\"] = events[\"time\"].apply(lambda x: datetime.strptime(x, \"%Y-%m-%dT%H:%M:%S.%f\"))\n",
    "\n",
    "catalog = pd.read_csv(result_dir(f\"catalog_gamma_{version}.csv\"), delimiter=\"\\t\")\n",
    "catalog[\"time\"] = catalog[\"time\"].apply(lambda x: datetime.strptime(x, \"%Y-%m-%dT%H:%M:%S.%f\"))\n",
    "\n",
    "plt.figure()\n",
    "plt.hist(catalog[\"time\"], range=(config[\"starttime\"], config[\"endtime\"]), bins=24, edgecolor=\"k\", alpha=1.0, linewidth=0.5, label=f\"{result_label}: {len(catalog['time'])}\")\n",
    "# plt.hist(events[\"time\"], range=(config[\"starttime\"], config[\"endtime\"]), bins=24, edgecolor=\"k\", alpha=0.6, linewidth=0.5, label=f\"{catalog_label}: {len(events['time'])}\")\n",
    "plt.ylabel(\"Frequency\")\n",
    "plt.xlabel(\"Date\")\n",
    "plt.gca().autoscale(enable=True, axis='x', tight=True)\n",
    "plt.gca().xaxis.set_major_formatter(mdates.DateFormatter('%m-%d:%H'))\n",
    "plt.gcf().autofmt_xdate()\n",
    "plt.legend()\n",
    "plt.savefig(figure_dir(\"earthquake_number.png\"), bbox_inches=\"tight\", dpi=300)\n",
    "plt.savefig(figure_dir(\"earthquake_number.pdf\"), bbox_inches=\"tight\")\n",
    "plt.show();"
   ]
  },
  {
   "cell_type": "code",
   "execution_count": null,
   "metadata": {
    "execution": {
     "iopub.execute_input": "2022-06-25T01:20:36.935565Z",
     "iopub.status.busy": "2022-06-25T01:20:36.935457Z",
     "iopub.status.idle": "2022-06-25T01:20:37.760239Z",
     "shell.execute_reply": "2022-06-25T01:20:37.759974Z",
     "shell.execute_reply.started": "2022-06-25T01:20:36.935555Z"
    },
    "tags": []
   },
   "outputs": [],
   "source": [
    "fig = plt.figure(figsize=plt.rcParams[\"figure.figsize\"]*np.array([1.5,1]))\n",
    "box = dict(boxstyle='round', facecolor='white', alpha=1)\n",
    "text_loc = [0.05, 0.92]\n",
    "grd = fig.add_gridspec(ncols=2, nrows=2, width_ratios=[1.5, 1], height_ratios=[1,1])\n",
    "fig.add_subplot(grd[:, 0])\n",
    "plt.plot(catalog[\"longitude\"], catalog[\"latitude\"], '.',markersize=2, alpha=1.0)\n",
    "# plt.plot(events[\"longitude\"], events[\"latitude\"], '.', markersize=2, alpha=0.6)\n",
    "plt.axis(\"scaled\")\n",
    "# plt.xlim(np.array(config[\"xlim_degree\"])+np.array([0.2,-0.27]))\n",
    "# plt.ylim(np.array(config[\"ylim_degree\"])+np.array([0.2,-0.27]))\n",
    "plt.xlim(np.array(config[\"xlim_degree\"]))\n",
    "plt.ylim(np.array(config[\"ylim_degree\"]))\n",
    "plt.xlabel(\"Latitude\")\n",
    "plt.ylabel(\"Longitude\")\n",
    "plt.gca().set_prop_cycle(None)\n",
    "plt.plot(config[\"xlim_degree\"][0]-10, config[\"ylim_degree\"][0]-10, '.', markersize=10, label=f\"{result_label}\", rasterized=True)\n",
    "plt.plot(config[\"xlim_degree\"][0]-10, config[\"ylim_degree\"][0]-10, '.', markersize=10, label=f\"{catalog_label}\", rasterized=True)\n",
    "plt.plot(stations[\"longitude\"], stations[\"latitude\"], 'k^', markersize=5, alpha=0.7, label=\"Stations\")\n",
    "plt.legend(loc=\"lower right\")\n",
    "plt.text(text_loc[0], text_loc[1], '(i)', horizontalalignment='left', verticalalignment=\"top\", \n",
    "         transform=plt.gca().transAxes, fontsize=\"large\", fontweight=\"normal\", bbox=box)\n",
    "\n",
    "fig.add_subplot(grd[0, 1])\n",
    "plt.plot(catalog[\"longitude\"], catalog[\"depth(m)\"]/1e3, '.', markersize=2, alpha=1.0, rasterized=True)\n",
    "# plt.plot(events[\"longitude\"], events[\"depth(m)\"]/1e3, '.', markersize=2, alpha=0.6, rasterized=True)\n",
    "# plt.axis(\"scaled\")\n",
    "# plt.xlim(np.array(config[\"xlim_degree\"])+np.array([0.2,-0.27]))\n",
    "plt.xlim(np.array(config[\"xlim_degree\"]))\n",
    "plt.ylim([0,21])\n",
    "plt.gca().invert_yaxis()\n",
    "plt.xlabel(\"Longitude\")\n",
    "plt.ylabel(\"Depth (km)\")\n",
    "plt.gca().set_prop_cycle(None)\n",
    "plt.plot(config[\"xlim_degree\"][0]-10, 31, '.', markersize=10, label=f\"{result_label}\")\n",
    "plt.plot(31, 31, '.', markersize=10, label=f\"{catalog_label}\")\n",
    "plt.legend(loc=\"lower right\")\n",
    "plt.text(text_loc[0], text_loc[1], '(ii)', horizontalalignment='left', verticalalignment=\"top\", \n",
    "         transform=plt.gca().transAxes, fontsize=\"large\", fontweight=\"normal\", bbox=box)\n",
    "\n",
    "fig.add_subplot(grd[1, 1])\n",
    "plt.plot(catalog[\"latitude\"], catalog[\"depth(m)\"]/1e3, '.', markersize=2, alpha=1.0, rasterized=True)\n",
    "# plt.plot(events[\"latitude\"], events[\"depth(m)\"]/1e3, '.', markersize=2, alpha=0.6, rasterized=True)\n",
    "# plt.axis(\"scaled\")\n",
    "# plt.xlim(np.array(config[\"ylim_degree\"])+np.array([0.2,-0.27]))\n",
    "plt.xlim(np.array(config[\"ylim_degree\"]))\n",
    "plt.ylim([0,21])\n",
    "plt.gca().invert_yaxis()\n",
    "plt.xlabel(\"Latitude\")\n",
    "plt.ylabel(\"Depth (km)\")\n",
    "plt.gca().set_prop_cycle(None)\n",
    "plt.plot(config[\"ylim_degree\"][0]-10, 31, '.', markersize=10, label=f\"{result_label}\")\n",
    "plt.plot(31, 31, '.', markersize=10, label=f\"{catalog_label}\")\n",
    "plt.legend(loc=\"lower right\")\n",
    "plt.tight_layout()\n",
    "plt.text(text_loc[0], text_loc[1], '(iii)', horizontalalignment='left', verticalalignment=\"top\", \n",
    "         transform=plt.gca().transAxes, fontsize=\"large\", fontweight=\"normal\", bbox=box)\n",
    "plt.savefig(figure_dir(\"earthquake_location.png\"), bbox_inches=\"tight\", dpi=300)\n",
    "plt.savefig(figure_dir(\"earthquake_location.pdf\"), bbox_inches=\"tight\", dpi=300)\n",
    "plt.show();"
   ]
  },
  {
   "cell_type": "code",
   "execution_count": null,
   "metadata": {
    "execution": {
     "iopub.execute_input": "2022-06-25T01:20:37.760803Z",
     "iopub.status.busy": "2022-06-25T01:20:37.760691Z",
     "iopub.status.idle": "2022-06-25T01:20:38.371748Z",
     "shell.execute_reply": "2022-06-25T01:20:38.371431Z",
     "shell.execute_reply.started": "2022-06-25T01:20:37.760792Z"
    },
    "tags": []
   },
   "outputs": [],
   "source": [
    "plt.figure()\n",
    "plt.hist(catalog[\"magnitude\"], range=(-1., catalog[\"magnitude\"].max()), bins=25, alpha=1.0,  edgecolor=\"k\", linewidth=0.5, label=f\"{result_label}: {len(catalog['magnitude'])}\")\n",
    "# plt.hist(events[\"magnitude\"], range=(-1., catalog[\"magnitude\"].max()), bins=25, alpha=0.6,  edgecolor=\"k\", linewidth=0.5, label=f\"{catalog_label}: {len(events['magnitude'])}\")\n",
    "plt.legend()\n",
    "# plt.figure()\n",
    "plt.xlim([-1,catalog[\"magnitude\"].max()])\n",
    "plt.xlabel(\"Magnitude\")\n",
    "plt.ylabel(\"Frequency\")\n",
    "plt.gca().set_yscale('log')\n",
    "plt.savefig(figure_dir(\"earthquake_magnitude_frequency.png\"), bbox_inches=\"tight\", dpi=300)\n",
    "plt.savefig(figure_dir(\"earthquake_magnitude_frequency.pdf\"), bbox_inches=\"tight\")\n",
    "plt.show();"
   ]
  },
  {
   "cell_type": "code",
   "execution_count": null,
   "metadata": {
    "execution": {
     "iopub.execute_input": "2022-06-25T01:20:38.372265Z",
     "iopub.status.busy": "2022-06-25T01:20:38.372173Z",
     "iopub.status.idle": "2022-06-25T01:20:38.751862Z",
     "shell.execute_reply": "2022-06-25T01:20:38.751588Z",
     "shell.execute_reply.started": "2022-06-25T01:20:38.372249Z"
    },
    "tags": []
   },
   "outputs": [],
   "source": [
    "plt.figure()\n",
    "plt.plot(catalog[\"time\"], catalog[\"magnitude\"], '.', markersize=5, alpha=1.0, rasterized=True)\n",
    "# plt.plot(events[\"time\"], events[\"magnitude\"], '.', markersize=5, alpha=0.8, rasterized=True)\n",
    "plt.xlim(config[\"starttime\"], config[\"endtime\"])\n",
    "ylim = plt.ylim()\n",
    "plt.ylabel(\"Magnitude\")\n",
    "# plt.xlabel(\"Date\")\n",
    "plt.gca().xaxis.set_major_formatter(mdates.DateFormatter('%m-%d:%H'))\n",
    "plt.gcf().autofmt_xdate()\n",
    "plt.gca().set_prop_cycle(None)\n",
    "plt.plot(config[\"starttime\"], -10, '.', markersize=15, alpha=1.0, label=f\"{result_label}: {len(catalog['magnitude'])}\")\n",
    "# plt.plot(config[\"starttime\"], -10, '.', markersize=15, alpha=1.0, label=f\"{catalog_label}: {len(events['magnitude'])}\")\n",
    "plt.legend()\n",
    "plt.ylim(ylim)\n",
    "plt.grid()\n",
    "plt.savefig(figure_dir(\"earthquake_magnitude_time.png\"), bbox_inches=\"tight\", dpi=300)\n",
    "plt.savefig(figure_dir(\"earthquake_magnitude_time.pdf\"), bbox_inches=\"tight\", dpi=300)\n",
    "plt.show();"
   ]
  },
  {
   "cell_type": "code",
   "execution_count": null,
   "metadata": {
    "execution": {
     "iopub.execute_input": "2022-06-25T01:20:38.752447Z",
     "iopub.status.busy": "2022-06-25T01:20:38.752322Z",
     "iopub.status.idle": "2022-06-25T01:20:39.559917Z",
     "shell.execute_reply": "2022-06-25T01:20:39.559643Z",
     "shell.execute_reply.started": "2022-06-25T01:20:38.752435Z"
    },
    "tags": []
   },
   "outputs": [],
   "source": [
    "# covariance = np.array(catalog[\"covariance\"].to_list())\n",
    "fig = plt.figure(figsize=plt.rcParams[\"figure.figsize\"]*np.array([0.8,1.1]))\n",
    "box = dict(boxstyle='round', facecolor='white', alpha=1)\n",
    "text_loc = [0.05, 0.90]\n",
    "plt.subplot(311)\n",
    "plt.plot(catalog[\"time\"], catalog[\"sigma_time\"], '.', markersize=3.0, label=\"Travel-time\")\n",
    "# plt.ylim([0, 3])\n",
    "plt.ylabel(r\"$\\sigma_{11}$ (s)\")\n",
    "plt.legend(loc=\"upper right\")\n",
    "plt.text(text_loc[0], text_loc[1], '(i)', horizontalalignment='left', verticalalignment=\"top\", \n",
    "         transform=plt.gca().transAxes, fontsize=\"large\", fontweight=\"normal\", bbox=box)\n",
    "plt.subplot(312)\n",
    "plt.plot(catalog[\"time\"], catalog[\"sigma_amp\"], '.', markersize=3.0, label=\"Amplitude\")\n",
    "# plt.ylim([0, 1])\n",
    "plt.ylabel(r\"$\\sigma_{22}$ ($\\log10$ m/s)\")\n",
    "plt.legend(loc=\"upper right\")\n",
    "plt.text(text_loc[0], text_loc[1], '(ii)', horizontalalignment='left', verticalalignment=\"top\", \n",
    "         transform=plt.gca().transAxes, fontsize=\"large\", fontweight=\"normal\", bbox=box)\n",
    "plt.subplot(313)\n",
    "plt.plot(catalog[\"time\"], catalog[\"cov_time_amp\"], '.', markersize=3.0, label=\"Travel-time vs. Amplitude\")\n",
    "plt.ylabel(r\"$\\Sigma_{12}$\")\n",
    "plt.ylim([-0.5, 0.5])\n",
    "plt.legend(loc=\"upper right\")\n",
    "plt.text(text_loc[0], text_loc[1], '(iii)', horizontalalignment='left', verticalalignment=\"top\", \n",
    "         transform=plt.gca().transAxes, fontsize=\"large\", fontweight=\"normal\", bbox=box)\n",
    "plt.gca().xaxis.set_major_formatter(mdates.DateFormatter('%m-%d:%H'))\n",
    "plt.gcf().autofmt_xdate()\n",
    "# plt.suptitle(r\"Covariance Matrix ($\\Sigma$) Coefficients\")\n",
    "plt.tight_layout()\n",
    "plt.gcf().align_labels()\n",
    "plt.savefig(figure_dir(\"covariance.png\"), bbox_inches=\"tight\", dpi=300)\n",
    "plt.savefig(figure_dir(\"covariance.pdf\"), bbox_inches=\"tight\")\n",
    "plt.show();"
   ]
  },
  {
   "cell_type": "code",
   "execution_count": null,
   "metadata": {},
   "outputs": [],
   "source": []
  }
 ],
 "metadata": {
  "kernelspec": {
   "display_name": "Python 3",
   "language": "python",
   "name": "python3"
  },
  "language_info": {
   "codemirror_mode": {
    "name": "ipython",
    "version": 3
   },
   "file_extension": ".py",
   "mimetype": "text/x-python",
   "name": "python",
   "nbconvert_exporter": "python",
   "pygments_lexer": "ipython3",
   "version": "3.10.4"
  },
  "vscode": {
   "interpreter": {
    "hash": "3ad933181bd8a04b432d3370b9dc3b0662ad032c4dfaa4e4f1596c548f763858"
   }
  }
 },
 "nbformat": 4,
 "nbformat_minor": 4
}
