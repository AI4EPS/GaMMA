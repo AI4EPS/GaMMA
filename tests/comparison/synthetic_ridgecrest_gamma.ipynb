{
 "cells": [
  {
   "cell_type": "markdown",
   "metadata": {},
   "source": [
    "# GaMMA Synthetic Example\n",
    "\n",
    "Applying GaMMA to associate synthetic picks"
   ]
  },
  {
   "cell_type": "code",
   "execution_count": 20,
   "metadata": {
    "execution": {
     "iopub.execute_input": "2022-08-11T23:37:57.806718Z",
     "iopub.status.busy": "2022-08-11T23:37:57.806009Z",
     "iopub.status.idle": "2022-08-11T23:37:57.815696Z",
     "shell.execute_reply": "2022-08-11T23:37:57.814886Z",
     "shell.execute_reply.started": "2022-08-11T23:37:57.806672Z"
    },
    "tags": []
   },
   "outputs": [],
   "source": [
    "import pandas as pd\n",
    "from datetime import datetime, timedelta\n",
    "import gamma\n",
    "from gamma import BayesianGaussianMixture, GaussianMixture\n",
    "from gamma.utils import convert_picks_csv, association, from_seconds\n",
    "import numpy as np\n",
    "from sklearn.cluster import DBSCAN\n",
    "from datetime import datetime, timedelta\n",
    "import os\n",
    "import json\n",
    "import pickle\n",
    "from tqdm import tqdm\n",
    "import time\n"
   ]
  },
  {
   "cell_type": "code",
   "execution_count": 21,
   "metadata": {
    "execution": {
     "iopub.execute_input": "2022-08-11T23:37:57.967078Z",
     "iopub.status.busy": "2022-08-11T23:37:57.966547Z",
     "iopub.status.idle": "2022-08-11T23:37:58.107217Z",
     "shell.execute_reply": "2022-08-11T23:37:58.104901Z",
     "shell.execute_reply.started": "2022-08-11T23:37:57.967030Z"
    },
    "tags": []
   },
   "outputs": [
    {
     "name": "stdout",
     "output_type": "stream",
     "text": [
      "/Users/weiqiang/.local/miniconda3/bin/python\n"
     ]
    }
   ],
   "source": [
    "!which python"
   ]
  },
  {
   "cell_type": "code",
   "execution_count": 22,
   "metadata": {
    "execution": {
     "iopub.execute_input": "2022-08-11T23:37:58.147735Z",
     "iopub.status.busy": "2022-08-11T23:37:58.147385Z",
     "iopub.status.idle": "2022-08-11T23:37:58.188628Z",
     "shell.execute_reply": "2022-08-11T23:37:58.188292Z",
     "shell.execute_reply.started": "2022-08-11T23:37:58.147707Z"
    },
    "tags": []
   },
   "outputs": [
    {
     "name": "stdout",
     "output_type": "stream",
     "text": [
      "center: [-117.504, 35.705]\n",
      "xlim_degree: [-118.004, -117.004]\n",
      "ylim_degree: [35.205, 36.205]\n",
      "zlim_km: [0, 20]\n",
      "degree2km: 111.19492474777779\n",
      "x(km): [-55.597462373888895, 55.597462373888895]\n",
      "y(km): [-55.597462373888895, 55.597462373888895]\n",
      "z(km): [0, 20]\n",
      "starttime: 2019-01-01 00:00:02.260000\n",
      "endtime: 2019-01-01 00:08:30.372000\n",
      "dims: ['x(km)', 'y(km)', 'z(km)']\n",
      "use_dbscan: True\n",
      "use_amplitude: True\n",
      "vel: {'p': 6.0, 's': 3.4285714285714284}\n",
      "method: BGMM\n",
      "oversample_factor: 3\n",
      "bfgs_bounds: ((-56.597462373888895, 56.597462373888895), (-56.597462373888895, 56.597462373888895), (0, 21), (None, None))\n",
      "dbscan_eps: 6\n",
      "dbscan_min_samples: 3\n",
      "min_picks_per_eq: 10\n",
      "max_sigma11: 2.0\n",
      "max_sigma22: 1.0\n"
     ]
    }
   ],
   "source": [
    "data_path = lambda x: os.path.join(\"./\", x)\n",
    "station_json = data_path(\"synthetic_stations.json\")\n",
    "pick_csv = data_path(\"synthetic_picks.csv\")\n",
    "catalog_csv = data_path(\"catalog_gamma.csv\")\n",
    "picks_csv = data_path(\"picks_gamma.csv\")\n",
    "if not os.path.exists(\"figures\"):\n",
    "    os.makedirs(\"figures\")\n",
    "figure_dir = lambda x: os.path.join(\"figures\", x)\n",
    "\n",
    "## read config\n",
    "with open(\"config.json\", \"r\") as f:\n",
    "    config = json.load(f)\n",
    "# config[\"x(km)\"] = (np.array(config[\"xlim_degree\"])-np.array(config[\"center\"][0]))*config[\"degree2km\"]\n",
    "# config[\"y(km)\"] = (np.array(config[\"ylim_degree\"])-np.array(config[\"center\"][1]))*config[\"degree2km\"]\n",
    "# config[\"z(km)\"] = (0, 20)\n",
    "\n",
    "## read picks\n",
    "# picks = pd.read_json(pick_json)\n",
    "picks = pd.read_csv(pick_csv)\n",
    "picks[\"timestamp\"]=picks[\"phase_time\"]\n",
    "picks[\"amp\"]=picks[\"phase_amp\"]\n",
    "picks[\"prob\"]=picks[\"phase_score\"]\n",
    "picks[\"type\"]=picks[\"phase_type\"]\n",
    "picks[\"timestamp\"] = picks[\"timestamp\"].apply(lambda x: datetime.fromisoformat(x))\n",
    "picks[\"time_idx\"] = picks[\"timestamp\"].apply(\n",
    "    lambda x: x.strftime(\"%Y-%m-%dT%H\")\n",
    ")  ## process by hours\n",
    "picks[\"id\"] = picks[\"station_id\"]\n",
    "\n",
    "## read stations\n",
    "stations = pd.read_json(station_json, orient=\"index\")\n",
    "stations[\"id\"] = stations.index\n",
    "# stations.rename(columns={\"station\": \"id\"}, inplace=True)\n",
    "stations[\"x(km)\"] = stations[\"longitude\"].apply(\n",
    "    lambda x: (x - config[\"center\"][0]) * config[\"degree2km\"]\n",
    ")\n",
    "stations[\"y(km)\"] = stations[\"latitude\"].apply(\n",
    "    lambda x: (x - config[\"center\"][1]) * config[\"degree2km\"]\n",
    ")\n",
    "stations[\"z(km)\"] = stations[\"elevation(m)\"].apply(lambda x: -x / 1e3)\n",
    "\n",
    "## set GMMA configs\n",
    "config[\"starttime\"] = picks[\"timestamp\"].min()\n",
    "config[\"endtime\"] = picks[\"timestamp\"].max()\n",
    "config[\"dims\"] = ['x(km)', 'y(km)', 'z(km)']\n",
    "config[\"use_dbscan\"] = True\n",
    "config[\"use_amplitude\"] = True\n",
    "config[\"vel\"] = {\"p\": 6.0, \"s\": 6.0 / 1.75}\n",
    "config[\"method\"] = \"BGMM\"\n",
    "if config[\"method\"] == \"BGMM\":\n",
    "    config[\"oversample_factor\"] = 3\n",
    "if config[\"method\"] == \"GMM\":\n",
    "    config[\"oversample_factor\"] = 1\n",
    "\n",
    "# config[\"oversample_factor\"] = 3\n",
    "\n",
    "# DBSCAN\n",
    "config[\"bfgs_bounds\"] = (\n",
    "    (config[\"x(km)\"][0] - 1, config[\"x(km)\"][1] + 1),  # x\n",
    "    (config[\"y(km)\"][0] - 1, config[\"y(km)\"][1] + 1),  # y\n",
    "    (0, config[\"z(km)\"][1] + 1),  # x\n",
    "    (None, None),  # t\n",
    ")\n",
    "config[\"dbscan_eps\"] = min(\n",
    "    6, #seconds\n",
    "    np.sqrt(\n",
    "        (stations[\"x(km)\"].max() - stations[\"x(km)\"].min()) ** 2\n",
    "        + (stations[\"y(km)\"].max() - stations[\"y(km)\"].min()) ** 2\n",
    "    )\n",
    "    / (6.0 / 1.75),\n",
    ")\n",
    "config[\"dbscan_min_samples\"] = min(3, len(stations))\n",
    "\n",
    "# Filtering\n",
    "config[\"min_picks_per_eq\"] = min(10, len(stations) // 2)\n",
    "config[\"max_sigma11\"] = 1.0 * 2.0\n",
    "config[\"max_sigma22\"] = 0.5 * 2.0\n",
    "\n",
    "for k, v in config.items():\n",
    "    print(f\"{k}: {v}\")\n"
   ]
  },
  {
   "cell_type": "markdown",
   "metadata": {},
   "source": [
    "## 2. Associaiton with GaMMA"
   ]
  },
  {
   "cell_type": "code",
   "execution_count": 23,
   "metadata": {
    "execution": {
     "iopub.execute_input": "2022-08-11T23:37:58.638869Z",
     "iopub.status.busy": "2022-08-11T23:37:58.638359Z",
     "iopub.status.idle": "2022-08-11T23:39:26.104682Z",
     "shell.execute_reply": "2022-08-11T23:39:26.104411Z",
     "shell.execute_reply.started": "2022-08-11T23:37:58.638822Z"
    },
    "tags": []
   },
   "outputs": [
    {
     "name": "stderr",
     "output_type": "stream",
     "text": [
      "Process 3493 picks: 100%|█████████████████████████████████████████████████████████████████████████████████████████████████████████████████████████████▋| 3493/3500 [01:27<00:00, 39.98it/s]"
     ]
    },
    {
     "name": "stdout",
     "output_type": "stream",
     "text": [
      "Total time: 375.1198887825012 seconds\n"
     ]
    },
    {
     "name": "stderr",
     "output_type": "stream",
     "text": [
      "\n"
     ]
    }
   ],
   "source": [
    "event_idx0 = 0 ## current earthquake index\n",
    "assignments = []\n",
    "catalogs, assignments = association(picks, stations, config, event_idx0, config[\"method\"])\n",
    "event_idx0 += len(catalogs)\n",
    "\n",
    "## create catalog\n",
    "catalogs = pd.DataFrame(catalogs, columns=[\"time\"]+config[\"dims\"]+[\"magnitude\", \"sigma_time\", \"sigma_amp\", \"cov_time_amp\",  \"event_index\", \"gamma_score\"])\n",
    "catalogs[\"longitude\"] = catalogs[\"x(km)\"].apply(\n",
    "    lambda x: x / config[\"degree2km\"] + config[\"center\"][0]\n",
    ")\n",
    "catalogs[\"latitude\"] = catalogs[\"y(km)\"].apply(\n",
    "    lambda x: x / config[\"degree2km\"] + config[\"center\"][1]\n",
    ")\n",
    "catalogs[\"depth(m)\"] = catalogs[\"z(km)\"].apply(lambda x: x*1e3)\n",
    "with open(catalog_csv, 'w') as fp:\n",
    "    catalogs.to_csv(fp,index=False, \n",
    "                    float_format=\"%.3f\",\n",
    "                    date_format='%Y-%m-%dT%H:%M:%S.%f',\n",
    "                    columns=[\"time\", \"magnitude\", \"longitude\", \"latitude\", \"depth(m)\", \"sigma_time\", \"sigma_amp\", \"cov_time_amp\", \"event_index\", \"gamma_score\"])\n",
    "# catalogs = catalogs[['time', 'magnitude', 'longitude', 'latitude', 'depth(m)', 'sigma_time', 'sigma_amp', 'gamma_score']]\n",
    "\n",
    "## add assignment to picks\n",
    "assignments = pd.DataFrame(assignments, columns=[\"pick_index\", \"event_index\", \"gamma_score\"])\n",
    "picks = picks.join(assignments.set_index(\"pick_index\")).fillna(-1).astype({'event_index': int})\n",
    "with open(picks_csv, 'w') as fp:\n",
    "    picks.to_csv(fp, index=False, \n",
    "                    date_format='%Y-%m-%dT%H:%M:%S.%f',\n",
    "                    columns=[\"station_id\", \"phase_time\", \"phase_type\", \"phase_score\", \"phase_amp\", \"event_index\", \"gamma_score\"])\n",
    "\n",
    "print(f\"Total time: {time.time() - start_time} seconds\")\n"
   ]
  },
  {
   "cell_type": "markdown",
   "metadata": {},
   "source": [
    "## 3. Visualize results\n",
    "\n",
    "Note that the location and magnitude are estimated during associaiton, which are not expected to have high accuracy. "
   ]
  },
  {
   "cell_type": "code",
   "execution_count": 26,
   "metadata": {
    "execution": {
     "iopub.execute_input": "2022-08-11T23:40:00.433298Z",
     "iopub.status.busy": "2022-08-11T23:40:00.432482Z",
     "iopub.status.idle": "2022-08-11T23:40:00.441200Z",
     "shell.execute_reply": "2022-08-11T23:40:00.438604Z",
     "shell.execute_reply.started": "2022-08-11T23:40:00.433239Z"
    },
    "tags": []
   },
   "outputs": [],
   "source": [
    "import matplotlib.pyplot as plt\n",
    "import matplotlib.dates as mdates\n",
    "\n",
    "result_label = \"GaMMA\"\n",
    "catalog_label = \"True\"\n"
   ]
  },
  {
   "cell_type": "code",
   "execution_count": 27,
   "metadata": {
    "execution": {
     "iopub.execute_input": "2022-08-11T23:40:00.691161Z",
     "iopub.status.busy": "2022-08-11T23:40:00.690876Z",
     "iopub.status.idle": "2022-08-11T23:40:01.038933Z",
     "shell.execute_reply": "2022-08-11T23:40:01.038632Z",
     "shell.execute_reply.started": "2022-08-11T23:40:00.691137Z"
    },
    "tags": []
   },
   "outputs": [
    {
     "data": {
      "image/png": "[encoded data removed]",
      "text/plain": [
       "<Figure size 432x288 with 1 Axes>"
      ]
     },
     "metadata": {
      "needs_background": "light"
     },
     "output_type": "display_data"
    }
   ],
   "source": [
    "stations = pd.read_json(data_path(\"synthetic_stations.json\"), orient=\"index\")\n",
    "events = pd.read_csv(data_path(\"synthetic_events.csv\"))\n",
    "events[\"time\"] = events[\"time\"].apply(\n",
    "    lambda x: datetime.strptime(x, \"%Y-%m-%dT%H:%M:%S.%f\")\n",
    ")\n",
    "\n",
    "catalog = pd.read_csv(data_path(\"catalog_gamma.csv\"))\n",
    "catalog[\"time\"] = catalog[\"time\"].apply(\n",
    "    lambda x: datetime.strptime(x, \"%Y-%m-%dT%H:%M:%S.%f\")\n",
    ")\n",
    "\n",
    "plt.figure()\n",
    "plt.hist(\n",
    "    catalog[\"time\"],\n",
    "    range=(config[\"starttime\"], config[\"endtime\"]),\n",
    "    bins=24,\n",
    "    edgecolor=\"k\",\n",
    "    alpha=0.6,\n",
    "    linewidth=0.5,\n",
    "    label=f\"{result_label}: {len(catalog['time'])}\",\n",
    ")\n",
    "plt.hist(\n",
    "    events[\"time\"],\n",
    "    range=(config[\"starttime\"], config[\"endtime\"]),\n",
    "    bins=24,\n",
    "    edgecolor=\"k\",\n",
    "    alpha=0.6,\n",
    "    linewidth=0.5,\n",
    "    label=f\"{catalog_label}: {len(events['time'])}\",\n",
    ")\n",
    "plt.ylabel(\"Frequency\")\n",
    "plt.xlabel(\"Date\")\n",
    "plt.gca().autoscale(enable=True, axis='x', tight=True)\n",
    "plt.gca().xaxis.set_major_formatter(mdates.DateFormatter('%m-%dT%H:%M'))\n",
    "plt.gcf().autofmt_xdate()\n",
    "plt.legend()\n",
    "plt.savefig(figure_dir(\"earthquake_number.png\"), bbox_inches=\"tight\", dpi=300)\n",
    "plt.savefig(figure_dir(\"earthquake_number.pdf\"), bbox_inches=\"tight\")\n",
    "plt.show()\n",
    "\n"
   ]
  },
  {
   "cell_type": "code",
   "execution_count": 28,
   "metadata": {
    "execution": {
     "iopub.execute_input": "2022-08-11T23:40:03.806114Z",
     "iopub.status.busy": "2022-08-11T23:40:03.805756Z",
     "iopub.status.idle": "2022-08-11T23:40:04.438570Z",
     "shell.execute_reply": "2022-08-11T23:40:04.438190Z",
     "shell.execute_reply.started": "2022-08-11T23:40:03.806087Z"
    }
   },
   "outputs": [
    {
     "data": {
      "image/png": "[encoded data removed]",
      "text/plain": [
       "<Figure size 648x288 with 3 Axes>"
      ]
     },
     "metadata": {
      "needs_background": "light"
     },
     "output_type": "display_data"
    }
   ],
   "source": [
    "markersize = 10\n",
    "\n",
    "fig = plt.figure(figsize=plt.rcParams[\"figure.figsize\"] * np.array([1.5, 1]))\n",
    "box = dict(boxstyle='round', facecolor='white', alpha=1)\n",
    "text_loc = [-0.05, 1.10]\n",
    "grd = fig.add_gridspec(ncols=2, nrows=2, width_ratios=[1.5, 1], height_ratios=[1, 1])\n",
    "fig.add_subplot(grd[:, 0])\n",
    "plt.plot(\n",
    "    catalog[\"longitude\"], catalog[\"latitude\"], '.', markersize=markersize, alpha=1.0\n",
    ")\n",
    "plt.plot(events[\"longitude\"], events[\"latitude\"], '.', markersize=markersize, alpha=0.6)\n",
    "plt.axis(\"scaled\")\n",
    "plt.xlim(np.array(config[\"xlim_degree\"]))  # +np.array([0.2,-0.27]))\n",
    "plt.ylim(np.array(config[\"ylim_degree\"]))  # +np.array([0.2,-0.27]))\n",
    "plt.xlabel(\"Latitude\")\n",
    "plt.ylabel(\"Longitude\")\n",
    "plt.gca().set_prop_cycle(None)\n",
    "plt.plot(\n",
    "    config[\"xlim_degree\"][0] - 10,\n",
    "    config[\"ylim_degree\"][0] - 10,\n",
    "    '.',\n",
    "    markersize=10,\n",
    "    label=f\"{result_label}\",\n",
    "    rasterized=True,\n",
    ")\n",
    "plt.plot(\n",
    "    config[\"xlim_degree\"][0] - 10,\n",
    "    config[\"ylim_degree\"][0] - 10,\n",
    "    '.',\n",
    "    markersize=10,\n",
    "    label=f\"{catalog_label}\",\n",
    "    rasterized=True,\n",
    ")\n",
    "plt.plot(\n",
    "    stations[\"longitude\"],\n",
    "    stations[\"latitude\"],\n",
    "    'k^',\n",
    "    markersize=5,\n",
    "    alpha=0.7,\n",
    "    label=\"Stations\",\n",
    ")\n",
    "plt.legend()\n",
    "plt.text(\n",
    "    text_loc[0],\n",
    "    text_loc[1],\n",
    "    '(i)',\n",
    "    horizontalalignment='center',\n",
    "    verticalalignment=\"bottom\",\n",
    "    transform=plt.gca().transAxes,\n",
    "    fontsize=\"large\",\n",
    "    fontweight=\"normal\",\n",
    "    bbox=box,\n",
    ")\n",
    "\n",
    "fig.add_subplot(grd[0, 1])\n",
    "plt.plot(\n",
    "    catalog[\"longitude\"],\n",
    "    catalog[\"depth(m)\"] / 1e3,\n",
    "    '.',\n",
    "    markersize=markersize,\n",
    "    alpha=1.0,\n",
    "    rasterized=True,\n",
    ")\n",
    "plt.plot(\n",
    "    events[\"longitude\"],\n",
    "    events[\"depth(m)\"] / 1e3,\n",
    "    '.',\n",
    "    markersize=markersize,\n",
    "    alpha=0.6,\n",
    "    rasterized=True,\n",
    ")\n",
    "# plt.axis(\"scaled\")\n",
    "plt.xlim(np.array(config[\"xlim_degree\"]))  # +np.array([0.2,-0.27]))\n",
    "plt.ylim(config[\"zlim_km\"])\n",
    "plt.gca().invert_yaxis()\n",
    "plt.xlabel(\"Longitude\")\n",
    "plt.ylabel(\"Depth (km)\")\n",
    "plt.gca().set_prop_cycle(None)\n",
    "plt.plot(config[\"xlim_degree\"][0] - 10, 31, '.', markersize=10, label=f\"{result_label}\")\n",
    "plt.plot(31, 31, '.', markersize=10, label=f\"{catalog_label}\")\n",
    "plt.legend()\n",
    "plt.text(\n",
    "    text_loc[0],\n",
    "    text_loc[1],\n",
    "    '(ii)',\n",
    "    horizontalalignment='center',\n",
    "    verticalalignment=\"bottom\",\n",
    "    transform=plt.gca().transAxes,\n",
    "    fontsize=\"large\",\n",
    "    fontweight=\"normal\",\n",
    "    bbox=box,\n",
    ")\n",
    "\n",
    "fig.add_subplot(grd[1, 1])\n",
    "plt.plot(\n",
    "    catalog[\"latitude\"],\n",
    "    catalog[\"depth(m)\"] / 1e3,\n",
    "    '.',\n",
    "    markersize=markersize,\n",
    "    alpha=1.0,\n",
    "    rasterized=True,\n",
    ")\n",
    "plt.plot(\n",
    "    events[\"latitude\"],\n",
    "    events[\"depth(m)\"] / 1e3,\n",
    "    '.',\n",
    "    markersize=markersize,\n",
    "    alpha=0.6,\n",
    "    rasterized=True,\n",
    ")\n",
    "# plt.axis(\"scaled\")\n",
    "plt.xlim(np.array(config[\"ylim_degree\"]))  # +np.array([0.2,-0.27]))\n",
    "plt.ylim(config[\"zlim_km\"])\n",
    "plt.gca().invert_yaxis()\n",
    "plt.xlabel(\"Latitude\")\n",
    "plt.ylabel(\"Depth (km)\")\n",
    "plt.gca().set_prop_cycle(None)\n",
    "plt.plot(config[\"ylim_degree\"][0] - 10, 31, '.', markersize=10, label=f\"{result_label}\")\n",
    "plt.plot(31, 31, '.', markersize=10, label=f\"{catalog_label}\")\n",
    "plt.legend()\n",
    "plt.tight_layout()\n",
    "plt.text(\n",
    "    text_loc[0],\n",
    "    text_loc[1],\n",
    "    '(iii)',\n",
    "    horizontalalignment='center',\n",
    "    verticalalignment=\"bottom\",\n",
    "    transform=plt.gca().transAxes,\n",
    "    fontsize=\"large\",\n",
    "    fontweight=\"normal\",\n",
    "    bbox=box,\n",
    ")\n",
    "plt.savefig(figure_dir(\"earthquake_location.png\"), bbox_inches=\"tight\", dpi=300)\n",
    "plt.savefig(figure_dir(\"earthquake_location.pdf\"), bbox_inches=\"tight\", dpi=300)\n",
    "plt.show()\n",
    "\n"
   ]
  },
  {
   "cell_type": "code",
   "execution_count": 29,
   "metadata": {
    "execution": {
     "iopub.execute_input": "2022-08-11T23:40:06.708652Z",
     "iopub.status.busy": "2022-08-11T23:40:06.708074Z",
     "iopub.status.idle": "2022-08-11T23:40:07.005124Z",
     "shell.execute_reply": "2022-08-11T23:40:07.004775Z",
     "shell.execute_reply.started": "2022-08-11T23:40:06.708613Z"
    }
   },
   "outputs": [
    {
     "data": {
      "image/png": "[encoded data removed]",
      "text/plain": [
       "<Figure size 432x288 with 1 Axes>"
      ]
     },
     "metadata": {
      "needs_background": "light"
     },
     "output_type": "display_data"
    }
   ],
   "source": [
    "plt.figure()\n",
    "plt.hist(\n",
    "    catalog[\"magnitude\"],\n",
    "    range=(catalog[\"magnitude\"].min() - 0.5, catalog[\"magnitude\"].max() + 0.5),\n",
    "    bins=25,\n",
    "    alpha=0.6,\n",
    "    edgecolor=\"k\",\n",
    "    linewidth=0.5,\n",
    "    label=f\"{result_label}: {len(catalog['magnitude'])}\",\n",
    ")\n",
    "plt.hist(\n",
    "    events[\"magnitude\"],\n",
    "    range=(events[\"magnitude\"].min() - 0.5, events[\"magnitude\"].max() + 0.5),\n",
    "    bins=25,\n",
    "    alpha=0.6,\n",
    "    edgecolor=\"k\",\n",
    "    linewidth=0.5,\n",
    "    label=f\"{catalog_label}: {len(events['magnitude'])}\",\n",
    ")\n",
    "plt.legend()\n",
    "# plt.figure()\n",
    "plt.xlim(\n",
    "    [\n",
    "        min(events[\"magnitude\"].min(), catalog[\"magnitude\"].min()) - 0.5,\n",
    "        max(events[\"magnitude\"].max(), catalog[\"magnitude\"].max()) + 0.5,\n",
    "    ]\n",
    ")\n",
    "plt.xlabel(\"Magnitude\")\n",
    "plt.ylabel(\"Frequency\")\n",
    "# plt.gca().set_yscale('log')\n",
    "plt.savefig(\n",
    "    figure_dir(\"earthquake_magnitude_frequency.png\"), bbox_inches=\"tight\", dpi=300\n",
    ")\n",
    "plt.savefig(figure_dir(\"earthquake_magnitude_frequency.pdf\"), bbox_inches=\"tight\")\n",
    "plt.show()\n",
    "\n"
   ]
  },
  {
   "cell_type": "code",
   "execution_count": 30,
   "metadata": {
    "execution": {
     "iopub.execute_input": "2022-08-11T23:40:08.867678Z",
     "iopub.status.busy": "2022-08-11T23:40:08.867137Z",
     "iopub.status.idle": "2022-08-11T23:40:09.204865Z",
     "shell.execute_reply": "2022-08-11T23:40:09.204497Z",
     "shell.execute_reply.started": "2022-08-11T23:40:08.867642Z"
    }
   },
   "outputs": [
    {
     "data": {
      "image/png": "[encoded data removed]",
      "text/plain": [
       "<Figure size 432x288 with 1 Axes>"
      ]
     },
     "metadata": {
      "needs_background": "light"
     },
     "output_type": "display_data"
    }
   ],
   "source": [
    "markersize = 10\n",
    "\n",
    "plt.figure()\n",
    "plt.plot(\n",
    "    catalog[\"time\"],\n",
    "    catalog[\"magnitude\"],\n",
    "    '.',\n",
    "    markersize=markersize,\n",
    "    alpha=1.0,\n",
    "    rasterized=True,\n",
    ")\n",
    "plt.plot(\n",
    "    events[\"time\"],\n",
    "    events[\"magnitude\"],\n",
    "    '.',\n",
    "    markersize=markersize,\n",
    "    alpha=0.8,\n",
    "    rasterized=True,\n",
    ")\n",
    "plt.xlim([config[\"starttime\"], config[\"endtime\"]])\n",
    "ylim = plt.ylim()\n",
    "plt.ylabel(\"Magnitude\")\n",
    "# plt.xlabel(\"Date\")\n",
    "plt.gca().xaxis.set_major_formatter(mdates.DateFormatter('%m-%dT%H:%M'))\n",
    "plt.gcf().autofmt_xdate()\n",
    "plt.gca().set_prop_cycle(None)\n",
    "plt.plot(\n",
    "    config[\"starttime\"],\n",
    "    -10,\n",
    "    '.',\n",
    "    markersize=15,\n",
    "    alpha=1.0,\n",
    "    label=f\"{result_label}: {len(catalog['magnitude'])}\",\n",
    ")\n",
    "plt.plot(\n",
    "    config[\"starttime\"],\n",
    "    -10,\n",
    "    '.',\n",
    "    markersize=15,\n",
    "    alpha=1.0,\n",
    "    label=f\"{catalog_label}: {len(events['magnitude'])}\",\n",
    ")\n",
    "plt.legend()\n",
    "plt.ylim(ylim)\n",
    "plt.grid()\n",
    "plt.savefig(figure_dir(\"earthquake_magnitude_time.png\"), bbox_inches=\"tight\", dpi=300)\n",
    "plt.savefig(figure_dir(\"earthquake_magnitude_time.pdf\"), bbox_inches=\"tight\", dpi=300)\n",
    "plt.show()\n",
    "\n"
   ]
  },
  {
   "cell_type": "code",
   "execution_count": 31,
   "metadata": {
    "execution": {
     "iopub.execute_input": "2022-08-11T23:40:10.870014Z",
     "iopub.status.busy": "2022-08-11T23:40:10.869332Z",
     "iopub.status.idle": "2022-08-11T23:40:11.735377Z",
     "shell.execute_reply": "2022-08-11T23:40:11.735077Z",
     "shell.execute_reply.started": "2022-08-11T23:40:10.869969Z"
    }
   },
   "outputs": [
    {
     "data": {
      "image/png": "[encoded data removed]",
      "text/plain": [
       "<Figure size 345.6x316.8 with 3 Axes>"
      ]
     },
     "metadata": {
      "needs_background": "light"
     },
     "output_type": "display_data"
    }
   ],
   "source": [
    "markersize = 10\n",
    "\n",
    "fig = plt.figure(figsize=plt.rcParams[\"figure.figsize\"] * np.array([0.8, 1.1]))\n",
    "box = dict(boxstyle='round', facecolor='white', alpha=1)\n",
    "text_loc = [0.05, 0.90]\n",
    "plt.subplot(311)\n",
    "plt.plot(\n",
    "    catalog[\"time\"], catalog[\"sigma_time\"], '.', markersize=markersize, label=\"Travel-time\"\n",
    ")\n",
    "# plt.ylim([0, 3])\n",
    "plt.xlim([config[\"starttime\"], config[\"endtime\"]])\n",
    "# plt.ylim([0, 1.0])\n",
    "plt.ylabel(r\"$\\Sigma_{11}$ (s)$^2$\")\n",
    "plt.legend(loc=\"upper right\")\n",
    "plt.text(\n",
    "    text_loc[0],\n",
    "    text_loc[1],\n",
    "    '(i)',\n",
    "    horizontalalignment='left',\n",
    "    verticalalignment=\"top\",\n",
    "    transform=plt.gca().transAxes,\n",
    "    fontsize=\"large\",\n",
    "    fontweight=\"normal\",\n",
    "    bbox=box,\n",
    ")\n",
    "plt.subplot(312)\n",
    "plt.plot(\n",
    "    catalog[\"time\"], catalog[\"sigma_amp\"], '.', markersize=markersize, label=\"Amplitude\"\n",
    ")\n",
    "# plt.ylim([0, 1])\n",
    "plt.xlim([config[\"starttime\"], config[\"endtime\"]])\n",
    "# plt.ylim([0, 0.3])\n",
    "plt.ylabel(r\"$\\Sigma_{22}$ ($\\log10$ m/s)$^2$\")\n",
    "plt.legend(loc=\"upper right\")\n",
    "plt.text(\n",
    "    text_loc[0],\n",
    "    text_loc[1],\n",
    "    '(ii)',\n",
    "    horizontalalignment='left',\n",
    "    verticalalignment=\"top\",\n",
    "    transform=plt.gca().transAxes,\n",
    "    fontsize=\"large\",\n",
    "    fontweight=\"normal\",\n",
    "    bbox=box,\n",
    ")\n",
    "plt.subplot(313)\n",
    "plt.plot(\n",
    "    catalog[\"time\"],\n",
    "    catalog[\"cov_time_amp\"],\n",
    "    '.',\n",
    "    markersize=markersize,\n",
    "    label=\"Travel-time vs. Amplitude\",\n",
    ")\n",
    "plt.ylabel(r\"$\\Sigma_{12}$\")\n",
    "plt.xlim([config[\"starttime\"], config[\"endtime\"]])\n",
    "plt.ylim([-0.5, 0.5])\n",
    "plt.legend(loc=\"upper right\")\n",
    "plt.text(\n",
    "    text_loc[0],\n",
    "    text_loc[1],\n",
    "    '(iii)',\n",
    "    horizontalalignment='left',\n",
    "    verticalalignment=\"top\",\n",
    "    transform=plt.gca().transAxes,\n",
    "    fontsize=\"large\",\n",
    "    fontweight=\"normal\",\n",
    "    bbox=box,\n",
    ")\n",
    "plt.gca().xaxis.set_major_formatter(mdates.DateFormatter('%m-%dT%H:%M'))\n",
    "plt.gcf().autofmt_xdate()\n",
    "# plt.suptitle(r\"Covariance Matrix ($\\Sigma$) Coefficients\")\n",
    "plt.tight_layout()\n",
    "plt.gcf().align_labels()\n",
    "plt.savefig(figure_dir(\"covariance.png\"), bbox_inches=\"tight\", dpi=300)\n",
    "plt.savefig(figure_dir(\"covariance.pdf\"), bbox_inches=\"tight\")\n",
    "plt.show()\n",
    "\n"
   ]
  },
  {
   "cell_type": "code",
   "execution_count": 32,
   "metadata": {
    "execution": {
     "iopub.execute_input": "2022-08-11T23:41:16.165235Z",
     "iopub.status.busy": "2022-08-11T23:41:16.164592Z",
     "iopub.status.idle": "2022-08-11T23:41:16.179110Z",
     "shell.execute_reply": "2022-08-11T23:41:16.176810Z",
     "shell.execute_reply.started": "2022-08-11T23:41:16.165189Z"
    }
   },
   "outputs": [
    {
     "name": "stdout",
     "output_type": "stream",
     "text": [
      "sigma_time = 0.55, sigma_amp = 0.39\n"
     ]
    }
   ],
   "source": [
    "print(f\"sigma_time = {np.mean(catalog['sigma_time']):.2f}, sigma_amp = {np.mean(catalog['sigma_amp']):.2f}\")"
   ]
  },
  {
   "cell_type": "code",
   "execution_count": null,
   "metadata": {},
   "outputs": [],
   "source": []
  }
 ],
 "metadata": {
  "interpreter": {
   "hash": "cd49b9d623d06aa0c5f872a997e70207e179b28bd8e4cd8fec363e5d29096c9c"
  },
  "kernelspec": {
   "display_name": "Python 3 (ipykernel)",
   "language": "python",
   "name": "python3"
  },
  "language_info": {
   "codemirror_mode": {
    "name": "ipython",
    "version": 3
   },
   "file_extension": ".py",
   "mimetype": "text/x-python",
   "name": "python",
   "nbconvert_exporter": "python",
   "pygments_lexer": "ipython3",
   "version": "3.9.13"
  }
 },
 "nbformat": 4,
 "nbformat_minor": 4
}
