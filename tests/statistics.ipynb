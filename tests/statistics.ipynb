{
 "cells": [
  {
   "cell_type": "code",
   "execution_count": 1,
   "id": "20b3ee7c-0813-40b0-9b91-bfb4374ba719",
   "metadata": {
    "execution": {
     "iopub.execute_input": "2022-10-31T20:10:10.751116Z",
     "iopub.status.busy": "2022-10-31T20:10:10.750922Z",
     "iopub.status.idle": "2022-10-31T20:10:10.940926Z",
     "shell.execute_reply": "2022-10-31T20:10:10.940647Z",
     "shell.execute_reply.started": "2022-10-31T20:10:10.751072Z"
    },
    "tags": []
   },
   "outputs": [],
   "source": [
    "import os\n",
    "import pandas as pd\n",
    "import matplotlib.pyplot as plt\n",
    "# import seaborn as sns\n",
    "# sns.set_theme()"
   ]
  },
  {
   "cell_type": "code",
   "execution_count": 2,
   "id": "6eabcae2-8872-4706-956a-5dbb26ef5e99",
   "metadata": {
    "execution": {
     "iopub.execute_input": "2022-10-31T20:10:10.942037Z",
     "iopub.status.busy": "2022-10-31T20:10:10.941953Z",
     "iopub.status.idle": "2022-10-31T20:10:10.944028Z",
     "shell.execute_reply": "2022-10-31T20:10:10.943771Z",
     "shell.execute_reply.started": "2022-10-31T20:10:10.942028Z"
    },
    "tags": []
   },
   "outputs": [],
   "source": [
    "def download_test_data():\n",
    "    ''' \n",
    "    The two test files can be downloaded using commands:\n",
    "    curl -O -J -L https://osf.io/aw53b/download\n",
    "    curl -O -J -L https://osf.io/y879e/download\n",
    "    curl -O -J -L https://osf.io/km97w/download\n",
    "    Details explained in Zhu et al. (2021) (https://arxiv.org/abs/2109.09008)\n",
    "    '''\n",
    "    os.system(\"curl -o gamma_catalog2.csv -J -L https://osf.io/945dq/download\")\n",
    "    os.system(\"curl -o gamma_picks2.csv -J -L https://osf.io/gwxtn/download\")\n",
    "    os.system(\"curl -o stations2.csv -J -L https://osf.io/km97w/download\")"
   ]
  },
  {
   "cell_type": "code",
   "execution_count": 3,
   "id": "3a0e4c97-28e6-4435-9959-d6ac7895876e",
   "metadata": {
    "execution": {
     "iopub.execute_input": "2022-10-31T20:10:10.944466Z",
     "iopub.status.busy": "2022-10-31T20:10:10.944409Z",
     "iopub.status.idle": "2022-10-31T20:10:17.713457Z",
     "shell.execute_reply": "2022-10-31T20:10:17.712765Z",
     "shell.execute_reply.started": "2022-10-31T20:10:10.944458Z"
    },
    "tags": []
   },
   "outputs": [
    {
     "name": "stderr",
     "output_type": "stream",
     "text": [
      "  % Total    % Received % Xferd  Average Speed   Time    Time     Time  Current\n",
      "                                 Dload  Upload   Total   Spent    Left  Speed\n",
      "100   459  100   459    0     0   1749      0 --:--:-- --:--:-- --:--:--  1800\n",
      "100 2553k  100 2553k    0     0  2647k      0 --:--:-- --:--:-- --:--:-- 45.1M\n",
      "  % Total    % Received % Xferd  Average Speed   Time    Time     Time  Current\n",
      "                                 Dload  Upload   Total   Spent    Left  Speed\n",
      "100   459  100   459    0     0   1728      0 --:--:-- --:--:-- --:--:--  1800\n",
      "100  129M  100  129M    0     0  31.7M      0  0:00:04  0:00:04 --:--:-- 49.6M\n",
      "  % Total    % Received % Xferd  Average Speed   Time    Time     Time  Current\n",
      "                                 Dload  Upload   Total   Spent    Left  Speed\n",
      "100   459  100   459    0     0   1644      0 --:--:-- --:--:-- --:--:--  1693\n",
      "100  4261  100  4261    0     0   2521      0  0:00:01  0:00:01 --:--:-- 20887\n"
     ]
    }
   ],
   "source": [
    "download_test_data()"
   ]
  },
  {
   "cell_type": "code",
   "execution_count": 4,
   "id": "5cbc96a0-1fa3-4963-a304-ad980bf67ee4",
   "metadata": {
    "execution": {
     "iopub.execute_input": "2022-10-31T20:10:17.715722Z",
     "iopub.status.busy": "2022-10-31T20:10:17.715323Z",
     "iopub.status.idle": "2022-10-31T20:10:18.607902Z",
     "shell.execute_reply": "2022-10-31T20:10:18.607641Z",
     "shell.execute_reply.started": "2022-10-31T20:10:17.715690Z"
    },
    "tags": []
   },
   "outputs": [],
   "source": [
    "picks = pd.read_csv(\"gamma_picks2.csv\", sep=\"\\t\")"
   ]
  },
  {
   "cell_type": "code",
   "execution_count": 15,
   "id": "5546ed19-95ff-417b-ac95-5948429a4a99",
   "metadata": {
    "execution": {
     "iopub.execute_input": "2022-10-31T20:12:03.191450Z",
     "iopub.status.busy": "2022-10-31T20:12:03.190797Z",
     "iopub.status.idle": "2022-10-31T20:12:03.819160Z",
     "shell.execute_reply": "2022-10-31T20:12:03.818761Z",
     "shell.execute_reply.started": "2022-10-31T20:12:03.191397Z"
    },
    "tags": []
   },
   "outputs": [
    {
     "name": "stderr",
     "output_type": "stream",
     "text": [
      "/var/folders/gc/lpnp82h92tv35c_7v97w97cm0000gn/T/ipykernel_33367/3188312575.py:12: UserWarning: Matplotlib is currently using module://matplotlib_inline.backend_inline, which is a non-GUI backend, so cannot show the figure.\n",
      "  fig.show()\n"
     ]
    },
    {
     "data": {
      "image/png": "[encoded data removed]",
      "text/plain": [
       "<Figure size 432x288 with 1 Axes>"
      ]
     },
     "metadata": {
      "needs_background": "light"
     },
     "output_type": "display_data"
    }
   ],
   "source": [
    "amp = picks[picks[\"event_idx\"] == -1][\"amp\"]\n",
    "\n",
    "fig, ax = plt.subplots(1, 1)\n",
    "# bins = 10**(np.linspace(np.log10(amp.min()), np.log10(amp.max()), 50))\n",
    "bins = 10**(np.linspace(-7, -2, 50))\n",
    "ax.hist(amp, bins=bins, facecolor=\"b\", edgecolor=\"k\")\n",
    "ax.set_xscale('log')\n",
    "ax.set_xlabel(\"PGV (m/s)\")\n",
    "ax.set_ylabel(\"Frequency\")\n",
    "fig.savefig(\"garbage_amp.pdf\", dpi=300, bbox_inches=\"tight\")\n",
    "fig.savefig(\"garbage_amp.png\", dpi=300, bbox_inches=\"tight\")\n",
    "fig.show()"
   ]
  }
 ],
 "metadata": {
  "kernelspec": {
   "display_name": "Python 3 (ipykernel)",
   "language": "python",
   "name": "python3"
  },
  "language_info": {
   "codemirror_mode": {
    "name": "ipython",
    "version": 3
   },
   "file_extension": ".py",
   "mimetype": "text/x-python",
   "name": "python",
   "nbconvert_exporter": "python",
   "pygments_lexer": "ipython3",
   "version": "3.9.13"
  }
 },
 "nbformat": 4,
 "nbformat_minor": 5
}
